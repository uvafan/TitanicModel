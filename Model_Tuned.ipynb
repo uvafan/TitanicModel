{
 "cells": [
  {
   "cell_type": "code",
   "execution_count": 10,
   "metadata": {
    "collapsed": false
   },
   "outputs": [],
   "source": [
    "import pandas as pd\n",
    "import numpy as np\n",
    "\n",
    "df = pd.read_csv('train.csv')"
   ]
  },
  {
   "cell_type": "code",
   "execution_count": 11,
   "metadata": {
    "collapsed": false
   },
   "outputs": [
    {
     "name": "stderr",
     "output_type": "stream",
     "text": [
      "C:\\Users\\darthjarjar\\Anaconda3\\lib\\site-packages\\scipy\\stats\\stats.py:250: RuntimeWarning: The input array could not be properly checked for nan values. nan values will be ignored.\n",
      "  \"values. nan values will be ignored.\", RuntimeWarning)\n"
     ]
    }
   ],
   "source": [
    "df = df.drop(['Name', 'Ticket', 'Cabin'], axis=1)\n",
    "\n",
    "age_median = df['Age'].median()\n",
    "df['Age'] = df['Age'].fillna(age_median)\n",
    "\n",
    "from scipy.stats import mode\n",
    "\n",
    "mode_embarked = mode(df['Embarked'].dropna())[0][0]\n",
    "df['Embarked'] = df['Embarked'].fillna(mode_embarked)\n",
    "\n",
    "df['Gender'] = df['Sex'].map({'female': 0, 'male': 1}).astype(int)\n",
    "\n",
    "pd.get_dummies(df['Embarked'], prefix='Embarked').head(10)\n",
    "df = pd.concat([df, pd.get_dummies(df['Embarked'], prefix='Embarked')], axis=1)\n",
    "\n",
    "df = df.drop(['Sex', 'Embarked'], axis=1)\n",
    "\n",
    "cols = df.columns.tolist()\n",
    "cols = [cols[1]] + cols[0:1] + cols[2:]\n",
    "\n",
    "df = df[cols]\n",
    "\n",
    "train_data = df.values"
   ]
  },
  {
   "cell_type": "code",
   "execution_count": 12,
   "metadata": {
    "collapsed": false
   },
   "outputs": [
    {
     "name": "stderr",
     "output_type": "stream",
     "text": [
      "C:\\Users\\darthjarjar\\Anaconda3\\lib\\site-packages\\sklearn\\cross_validation.py:44: DeprecationWarning: This module was deprecated in version 0.18 in favor of the model_selection module into which all the refactored classes and functions are moved. Also note that the interface of the new CV iterators are different from that of this module. This module will be removed in 0.20.\n",
      "  \"This module will be removed in 0.20.\", DeprecationWarning)\n",
      "C:\\Users\\darthjarjar\\Anaconda3\\lib\\site-packages\\sklearn\\grid_search.py:43: DeprecationWarning: This module was deprecated in version 0.18 in favor of the model_selection module into which all the refactored classes and functions are moved. This module will be removed in 0.20.\n",
      "  DeprecationWarning)\n"
     ]
    }
   ],
   "source": [
    "from sklearn.ensemble import RandomForestClassifier\n",
    "from sklearn.grid_search import GridSearchCV\n",
    "\n",
    "parameter_grid = {\n",
    "    'max_features': [0.5, 1.],\n",
    "    'max_depth': [5., None]\n",
    "}\n",
    "\n",
    "grid_search = GridSearchCV(RandomForestClassifier(n_estimators = 100), parameter_grid, cv=5, verbose=3)\n"
   ]
  },
  {
   "cell_type": "code",
   "execution_count": 13,
   "metadata": {
    "collapsed": false
   },
   "outputs": [
    {
     "name": "stdout",
     "output_type": "stream",
     "text": [
      "Fitting 5 folds for each of 4 candidates, totalling 20 fits\n",
      "[CV] max_depth=5.0, max_features=0.5 .................................\n",
      "[CV] ........ max_depth=5.0, max_features=0.5, score=0.804469 -   0.0s\n",
      "[CV] max_depth=5.0, max_features=0.5 ................................."
     ]
    },
    {
     "name": "stderr",
     "output_type": "stream",
     "text": [
      "[Parallel(n_jobs=1)]: Done   1 out of   1 | elapsed:    0.0s remaining:    0.0s\n",
      "[Parallel(n_jobs=1)]: Done   2 out of   2 | elapsed:    0.2s remaining:    0.0s\n"
     ]
    },
    {
     "name": "stdout",
     "output_type": "stream",
     "text": [
      "\n",
      "[CV] ........ max_depth=5.0, max_features=0.5, score=0.826816 -   0.1s\n",
      "[CV] max_depth=5.0, max_features=0.5 .................................\n",
      "[CV] ........ max_depth=5.0, max_features=0.5, score=0.837079 -   0.0s\n",
      "[CV] max_depth=5.0, max_features=0.5 .................................\n",
      "[CV] ........ max_depth=5.0, max_features=0.5, score=0.780899 -   0.0s\n",
      "[CV] max_depth=5.0, max_features=0.5 .................................\n",
      "[CV] ........ max_depth=5.0, max_features=0.5, score=0.853107 -   0.0s\n",
      "[CV] max_depth=5.0, max_features=1.0 .................................\n",
      "[CV] ........ max_depth=5.0, max_features=1.0, score=0.810056 -   0.1s\n",
      "[CV] max_depth=5.0, max_features=1.0 .................................\n",
      "[CV] ........ max_depth=5.0, max_features=1.0, score=0.826816 -   0.0s\n",
      "[CV] max_depth=5.0, max_features=1.0 .................................\n",
      "[CV] ........ max_depth=5.0, max_features=1.0, score=0.842697 -   0.1s\n",
      "[CV] max_depth=5.0, max_features=1.0 .................................\n",
      "[CV] ........ max_depth=5.0, max_features=1.0, score=0.797753 -   0.1s\n",
      "[CV] max_depth=5.0, max_features=1.0 .................................\n",
      "[CV] ........ max_depth=5.0, max_features=1.0, score=0.858757 -   0.1s\n",
      "[CV] max_depth=None, max_features=0.5 ................................\n",
      "[CV] ....... max_depth=None, max_features=0.5, score=0.782123 -   0.1s\n",
      "[CV] max_depth=None, max_features=0.5 ................................\n",
      "[CV] ....... max_depth=None, max_features=0.5, score=0.810056 -   0.1s\n",
      "[CV] max_depth=None, max_features=0.5 ................................\n",
      "[CV] ....... max_depth=None, max_features=0.5, score=0.859551 -   0.1s\n",
      "[CV] max_depth=None, max_features=0.5 ................................\n",
      "[CV] ....... max_depth=None, max_features=0.5, score=0.780899 -   0.0s\n",
      "[CV] max_depth=None, max_features=0.5 ................................\n",
      "[CV] ....... max_depth=None, max_features=0.5, score=0.841808 -   0.1s\n",
      "[CV] max_depth=None, max_features=1.0 ................................\n",
      "[CV] ....... max_depth=None, max_features=1.0, score=0.776536 -   0.1s\n",
      "[CV] max_depth=None, max_features=1.0 ................................\n",
      "[CV] ....... max_depth=None, max_features=1.0, score=0.821229 -   0.1s\n",
      "[CV] max_depth=None, max_features=1.0 ................................\n",
      "[CV] ....... max_depth=None, max_features=1.0, score=0.837079 -   0.1s\n",
      "[CV] max_depth=None, max_features=1.0 ................................\n",
      "[CV] ....... max_depth=None, max_features=1.0, score=0.780899 -   0.1s\n",
      "[CV] max_depth=None, max_features=1.0 ................................\n",
      "[CV] ....... max_depth=None, max_features=1.0, score=0.830508 -   0.1s\n"
     ]
    },
    {
     "name": "stderr",
     "output_type": "stream",
     "text": [
      "[Parallel(n_jobs=1)]: Done  20 out of  20 | elapsed:    3.3s finished\n"
     ]
    },
    {
     "data": {
      "text/plain": [
       "GridSearchCV(cv=5, error_score='raise',\n",
       "       estimator=RandomForestClassifier(bootstrap=True, class_weight=None, criterion='gini',\n",
       "            max_depth=None, max_features='auto', max_leaf_nodes=None,\n",
       "            min_impurity_split=1e-07, min_samples_leaf=1,\n",
       "            min_samples_split=2, min_weight_fraction_leaf=0.0,\n",
       "            n_estimators=100, n_jobs=1, oob_score=False, random_state=None,\n",
       "            verbose=0, warm_start=False),\n",
       "       fit_params={}, iid=True, n_jobs=1,\n",
       "       param_grid={'max_features': [0.5, 1.0], 'max_depth': [5.0, None]},\n",
       "       pre_dispatch='2*n_jobs', refit=True, scoring=None, verbose=3)"
      ]
     },
     "execution_count": 13,
     "metadata": {},
     "output_type": "execute_result"
    }
   ],
   "source": [
    "grid_search.fit(train_data[0:,2:], train_data[0:,0])"
   ]
  },
  {
   "cell_type": "code",
   "execution_count": 14,
   "metadata": {
    "collapsed": false
   },
   "outputs": [
    {
     "data": {
      "text/plain": [
       "[mean: 0.82043, std: 0.02531, params: {'max_depth': 5.0, 'max_features': 0.5},\n",
       " mean: 0.82716, std: 0.02190, params: {'max_depth': 5.0, 'max_features': 1.0},\n",
       " mean: 0.81481, std: 0.03153, params: {'max_depth': None, 'max_features': 0.5},\n",
       " mean: 0.80920, std: 0.02547, params: {'max_depth': None, 'max_features': 1.0}]"
      ]
     },
     "execution_count": 14,
     "metadata": {},
     "output_type": "execute_result"
    }
   ],
   "source": [
    "grid_search.grid_scores_"
   ]
  },
  {
   "cell_type": "code",
   "execution_count": 15,
   "metadata": {
    "collapsed": false
   },
   "outputs": [
    {
     "data": {
      "text/plain": [
       "{'max_depth': 5.0, 'max_features': 1.0}"
      ]
     },
     "execution_count": 15,
     "metadata": {},
     "output_type": "execute_result"
    }
   ],
   "source": [
    "sorted(grid_search.grid_scores_, key = lambda x: x.mean_validation_score)\n",
    "grid_search.best_score_\n",
    "grid_search.best_params_"
   ]
  },
  {
   "cell_type": "code",
   "execution_count": 16,
   "metadata": {
    "collapsed": true
   },
   "outputs": [],
   "source": [
    "model = RandomForestClassifier(n_estimators=100, max_features=0.5, max_depth=5.0)\n",
    "model = model.fit(train_data[0:,2:],train_data[0:,0])"
   ]
  },
  {
   "cell_type": "code",
   "execution_count": 17,
   "metadata": {
    "collapsed": true
   },
   "outputs": [],
   "source": [
    "df_test = pd.read_csv('test.csv')\n",
    "\n",
    "df_test = df_test.drop(['Name', 'Ticket', 'Cabin'], axis=1)\n",
    "\n",
    "df_test['Age'] = df_test['Age'].fillna(age_median)\n",
    "\n",
    "fare_means = df.pivot_table('Fare', index='Pclass', aggfunc='mean')\n",
    "df_test['Fare'] = df_test[['Fare', 'Pclass']].apply(lambda x:\n",
    "                            fare_means[x['Pclass']] if pd.isnull(x['Fare'])\n",
    "                            else x['Fare'], axis=1)\n",
    "\n",
    "df_test['Gender'] = df_test['Sex'].map({'female': 0, 'male': 1}).astype(int)\n",
    "df_test = pd.concat([df_test, pd.get_dummies(df_test['Embarked'], prefix='Embarked')],\n",
    "                axis=1)\n",
    "\n",
    "df_test = df_test.drop(['Sex', 'Embarked'], axis=1)\n",
    "\n",
    "test_data = df_test.values\n",
    "\n",
    "output = model.predict(test_data[:,1:])"
   ]
  },
  {
   "cell_type": "code",
   "execution_count": 18,
   "metadata": {
    "collapsed": true
   },
   "outputs": [],
   "source": [
    "result = np.c_[test_data[:,0].astype(int), output.astype(int)]\n",
    "\n",
    "\n",
    "df_result = pd.DataFrame(result[:,0:2], columns=['PassengerId', 'Survived'])\n",
    "df_result.to_csv('submissions/submissionTuned.csv', index=False)"
   ]
  },
  {
   "cell_type": "code",
   "execution_count": null,
   "metadata": {
    "collapsed": true
   },
   "outputs": [],
   "source": []
  }
 ],
 "metadata": {
  "kernelspec": {
   "display_name": "Python 3",
   "language": "python",
   "name": "python3"
  },
  "language_info": {
   "codemirror_mode": {
    "name": "ipython",
    "version": 3
   },
   "file_extension": ".py",
   "mimetype": "text/x-python",
   "name": "python",
   "nbconvert_exporter": "python",
   "pygments_lexer": "ipython3",
   "version": "3.6.0"
  }
 },
 "nbformat": 4,
 "nbformat_minor": 2
}
